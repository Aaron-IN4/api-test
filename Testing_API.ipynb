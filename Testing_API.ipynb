{
  "nbformat": 4,
  "nbformat_minor": 0,
  "metadata": {
    "colab": {
      "private_outputs": true,
      "provenance": [],
      "authorship_tag": "ABX9TyOrJcQgfeBJ+bQ3FOWCcK7+",
      "include_colab_link": true
    },
    "kernelspec": {
      "name": "python3",
      "display_name": "Python 3"
    },
    "language_info": {
      "name": "python"
    }
  },
  "cells": [
    {
      "cell_type": "markdown",
      "metadata": {
        "id": "view-in-github",
        "colab_type": "text"
      },
      "source": [
        "<a href=\"https://colab.research.google.com/github/Aaron-IN4/api-test/blob/Test-APIs/Testing_API.ipynb\" target=\"_parent\"><img src=\"https://colab.research.google.com/assets/colab-badge.svg\" alt=\"Open In Colab\"/></a>"
      ]
    },
    {
      "cell_type": "markdown",
      "source": [
        "**Testing with free api**"
      ],
      "metadata": {
        "id": "XWEE7pbRXWn0"
      }
    },
    {
      "cell_type": "code",
      "execution_count": null,
      "metadata": {
        "id": "cv5fR3TXVHqk"
      },
      "outputs": [],
      "source": [
        "# importing to make a API request\n",
        "import requests\n"
      ]
    },
    {
      "cell_type": "code",
      "source": [
        "# making a GET API request\n",
        "a = requests.get ('https://catfact.ninja/fact')"
      ],
      "metadata": {
        "id": "8aTuted7VZB0"
      },
      "execution_count": null,
      "outputs": []
    },
    {
      "cell_type": "code",
      "source": [
        "print(a)"
      ],
      "metadata": {
        "id": "uYlMItRRWEnM"
      },
      "execution_count": null,
      "outputs": []
    },
    {
      "cell_type": "code",
      "source": [
        "print (a.text)"
      ],
      "metadata": {
        "id": "Z1UVMIh3WkGl"
      },
      "execution_count": null,
      "outputs": []
    },
    {
      "cell_type": "code",
      "source": [
        "cat_facts = a.text"
      ],
      "metadata": {
        "id": "DyVNHyl1WrUq"
      },
      "execution_count": null,
      "outputs": []
    },
    {
      "cell_type": "code",
      "source": [
        "print (cat_facts)"
      ],
      "metadata": {
        "id": "z1fSyxtoXSxk"
      },
      "execution_count": null,
      "outputs": []
    },
    {
      "cell_type": "code",
      "source": [
        "print(type(cat_facts))"
      ],
      "metadata": {
        "id": "Wob--AKhXqlu"
      },
      "execution_count": null,
      "outputs": []
    },
    {
      "cell_type": "code",
      "source": [
        "#convert text to dic/list/whatever the data is\n",
        "check= eval(cat_facts)"
      ],
      "metadata": {
        "id": "8_tPOPLXXyKD"
      },
      "execution_count": null,
      "outputs": []
    },
    {
      "cell_type": "code",
      "source": [
        "print(check)"
      ],
      "metadata": {
        "id": "xULPbeEDX96n"
      },
      "execution_count": null,
      "outputs": []
    },
    {
      "cell_type": "code",
      "source": [
        "print(type(check))"
      ],
      "metadata": {
        "id": "R_OXP3nuYBG3"
      },
      "execution_count": null,
      "outputs": []
    },
    {
      "cell_type": "code",
      "source": [
        "print(check['fact'])"
      ],
      "metadata": {
        "id": "82GuutrJYQxs"
      },
      "execution_count": null,
      "outputs": []
    },
    {
      "cell_type": "code",
      "source": [
        "# making a get API request\n",
        "a= requests.get('https://catfact.ninja/fact')"
      ],
      "metadata": {
        "id": "JWLWudI9gI9I"
      },
      "execution_count": null,
      "outputs": []
    },
    {
      "cell_type": "code",
      "source": [
        "# Check if the request was successful (status code 200)\n",
        "if a.status_code == 200:\n",
        "    # Extract the JSON data from the response\n",
        "    data = a.json()\n",
        "\n",
        "    # Get the cat fact from the JSON data\n",
        "    cat_fact = data['fact']\n",
        "        # Print the cat fact\n",
        "    print(\"Here's a cat fact:\", cat_fact)\n",
        "else:\n",
        "    print(\"Failed to fetch cat fact from the API\")"
      ],
      "metadata": {
        "id": "jNRQwiF1gtTF"
      },
      "execution_count": null,
      "outputs": []
    },
    {
      "cell_type": "markdown",
      "source": [
        "**HTTP Requests:** The fundamental of API interaction is based on HTTP requests, which can be categorized into several types, such as GET, POST, PUT, and DELETE, each serving a specific purpose in data retrieval, creation, update, and deletion respectively.\n",
        "\n",
        "**API Endpoints:** An API endpoint is a specific path where API can be accessed by a client application. Each endpoint corresponds to a specific API functionality.\n",
        "\n",
        "**API Keys:** Often, APIs require an API key for authentication, ensuring that the request is coming from an authorized source.\n"
      ],
      "metadata": {
        "id": "IoD_bM_RVKlR"
      }
    },
    {
      "cell_type": "code",
      "source": [
        "import requests\n",
        "#choice = input(\"Enter the currecy of your choice in Caps: \")\n",
        "api_key = \"https://v6.exchangerate-api.com/v6/932ccb5fff4e8df8ca2b38bc/latest/USD\"\n"
      ],
      "metadata": {
        "id": "7FWpttzWVQYQ"
      },
      "execution_count": null,
      "outputs": []
    },
    {
      "cell_type": "code",
      "source": [
        "response = requests.get(api_key)"
      ],
      "metadata": {
        "id": "9eUmBb3Cc8tY"
      },
      "execution_count": null,
      "outputs": []
    },
    {
      "cell_type": "code",
      "source": [
        "data = response.json()"
      ],
      "metadata": {
        "id": "-KdqIGcOdAOX"
      },
      "execution_count": null,
      "outputs": []
    },
    {
      "cell_type": "code",
      "source": [
        "# Create a list of currencies for comparison\n",
        "currencies = ['USD', 'GBP','EUR','CAD','JPY','INR','CHF','NOK','RUB','AED']\n"
      ],
      "metadata": {
        "id": "QL6kh-1PdCNr"
      },
      "execution_count": null,
      "outputs": []
    },
    {
      "cell_type": "code",
      "source": [
        "# Loop through the currencies\n",
        "for n in currencies:\n",
        "   #Get the conversion rate from USD to EUR\n",
        "  conversion_rate = data['conversion_rates'][c]\n",
        "  # Print the conversion rate\n",
        "  print(c,conversion_rate)"
      ],
      "metadata": {
        "id": "1kzYVW7CdJZi"
      },
      "execution_count": null,
      "outputs": []
    },
    {
      "cell_type": "code",
      "source": [
        "currencies = ['USD', 'FJD','JEP','CZK','JPY','INR','NOK','RUB','AED']"
      ],
      "metadata": {
        "id": "UJu30AMydu32"
      },
      "execution_count": null,
      "outputs": []
    },
    {
      "cell_type": "code",
      "source": [
        "index = 0"
      ],
      "metadata": {
        "id": "w_bOBib-dxES"
      },
      "execution_count": null,
      "outputs": []
    },
    {
      "cell_type": "code",
      "source": [
        "while index < len(currencies):\n",
        "    c = currencies[index]\n",
        "    conversion_rate = data['conversion_rates'][c]\n",
        "    print(c, conversion_rate)\n",
        "    index = index + 1"
      ],
      "metadata": {
        "id": "dKa6nZcSdzWV"
      },
      "execution_count": null,
      "outputs": []
    },
    {
      "cell_type": "code",
      "source": [
        "import requests\n",
        "\n",
        "response = requests.get('https://www.alphavantage.co/query?function=TIME_SERIES_INTRADAY&symbol=IBM&interval=5min&outputsize=full&apikey=demo')"
      ],
      "metadata": {
        "id": "GMNDdAQskVMc"
      },
      "execution_count": null,
      "outputs": []
    },
    {
      "cell_type": "code",
      "source": [
        "   # Check if the response is successful\n",
        "print(response.text)"
      ],
      "metadata": {
        "id": "5mxeQbi1kXta"
      },
      "execution_count": null,
      "outputs": []
    }
  ]
}